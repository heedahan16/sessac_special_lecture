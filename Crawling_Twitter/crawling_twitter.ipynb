{
 "cells": [
  {
   "cell_type": "markdown",
   "metadata": {},
   "source": [
    "### 비동기방식\n",
    "- 화면을 만들고\n",
    "- rest API로 가져와서 뿌리는 형식.\n",
    "    - get / post / delete / update 방식.\n",
    "    - 상태값을 저장할 수 없음.\n",
    "        - 단방향으로 끝남. \n",
    "        - 확인 방법은 Application tab 확인.\n",
    "            - auth_token 등\n",
    "                - token 관리는 사용자 책임.\n",
    "                - 로그아웃하면 token은 사라짐.\n",
    "            - cookie 나 local storage에 저장.\n",
    "                - header에 넣어서 보냄.\n",
    "                - 서버에서는 header에 있는 정보를 확인 후 판단."
   ]
  },
  {
   "cell_type": "markdown",
   "metadata": {},
   "source": [
    "### url 인코딩\n",
    "import urllib.parse\n",
    "\n",
    "urllib.parse.quote('검색어')\n",
    "- 한글 검색어를 인코딩 형식으로 반환."
   ]
  }
 ],
 "metadata": {
  "language_info": {
   "name": "python"
  }
 },
 "nbformat": 4,
 "nbformat_minor": 2
}
